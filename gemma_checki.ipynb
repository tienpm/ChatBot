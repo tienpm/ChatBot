{
 "cells": [
  {
   "cell_type": "code",
   "execution_count": null,
   "metadata": {},
   "outputs": [],
   "source": []
  },
  {
   "cell_type": "code",
   "execution_count": 7,
   "metadata": {},
   "outputs": [
    {
     "name": "stdout",
     "output_type": "stream",
     "text": [
      "Current date and time : \n",
      "2024-05-20 00:26:26\n",
      "Current date and time : \n",
      "05_20_00_26\n"
     ]
    }
   ],
   "source": [
    "# get date time \n",
    "import datetime\n",
    "now = datetime.datetime.now()\n",
    "print (\"Current date and time : \")\n",
    "print (now.strftime(\"%Y-%m-%d %H:%M:%S\"))\n",
    "\n",
    "# get date, moth to string \n",
    "import datetime\n",
    "now = datetime.datetime.now()\n",
    "print (\"Current date and time : \")\n",
    "print (now.strftime(\"%m_%d_%H_%M\"))\n",
    "\n"
   ]
  },
  {
   "cell_type": "code",
   "execution_count": 8,
   "metadata": {},
   "outputs": [
    {
     "name": "stdout",
     "output_type": "stream",
     "text": [
      "File exist\n",
      "Số liệu ngoại hối của Việt Nam được đưa ra gần đây nhất là hồi tháng 6/2011 trong dịp diễn ra Hội nghị tư vấn các nhà tài trợ (CG) giữa kỳ.\n",
      "\n",
      "Ông Liên đề nghị: Cần phải xử lý thích đáng đối với Giám đốc Xí nghiệp xe điện về việc thiếu trách nhiệm quản lý lái phụ xe.\n",
      "\n",
      "Quản trị dịch vụ du lịch và lữ hành\n",
      "\n",
      "Họ là người châm ngòi cho những chiến công\n",
      "\n",
      "Vì thế phải đặc biệt chú trọng đến Bangkok vì sự sống còn của cả nước”.\n",
      "\n",
      "Và ngay Valentine năm sau chúng ta không phải cầu trời mưa nữa.\n",
      "\n",
      "Trước hết, hệ thống này giúp giảm thiểu đáng kể các hậu quả (cả về kinh tế, quân sự, chính trị, an ninh…) có thể xảy ra do quá trình xác thực chữ ký viết tay thủ công gây ra.\n",
      "\n",
      "Sau khi báo Dân trí đưa tin, bà đã đón nhận được nhiều sự quan tâm chia sẻ của bạn đọc gần xa.\n",
      "\n",
      "Tại các tuyến đường qua xã Quảng Ngạn (huyện Quảng Điền), xã Điền Hòa, Phong Chương (huyện Phong Điền), nhiều cây xăng đã thông báo tạm nghỉ bán.\n",
      "\n",
      "JCS tuyên bố đã tăng cường các\n",
      "\n"
     ]
    }
   ],
   "source": [
    "path_text = \"/home/xuananh/work/ChatBot/xa_corpus_20_5.txt\"\n",
    "\n",
    "import os\n",
    "if os.path.exists(path_text):\n",
    "    print(\"File exist\")\n",
    "else:\n",
    "    print(\"File not exist\")\n",
    "    \n",
    "\n",
    "# read file and print 10 first line\n",
    "\n",
    "with open(path_text, 'r') as f:\n",
    "    for i in range(10):\n",
    "        print(f.readline())\n",
    "        "
   ]
  },
  {
   "cell_type": "code",
   "execution_count": 9,
   "metadata": {},
   "outputs": [
    {
     "ename": "TypeError",
     "evalue": "unsupported operand type(s) for /: 'str' and 'str'",
     "output_type": "error",
     "traceback": [
      "\u001b[0;31m---------------------------------------------------------------------------\u001b[0m",
      "\u001b[0;31mTypeError\u001b[0m                                 Traceback (most recent call last)",
      "Cell \u001b[0;32mIn[9], line 4\u001b[0m\n\u001b[1;32m      1\u001b[0m path_1 \u001b[38;5;241m=\u001b[39m \u001b[38;5;124m\"\u001b[39m\u001b[38;5;124mhome\u001b[39m\u001b[38;5;124m\"\u001b[39m\n\u001b[1;32m      2\u001b[0m path_2 \u001b[38;5;241m=\u001b[39m \u001b[38;5;124m\"\u001b[39m\u001b[38;5;124mxuananh\u001b[39m\u001b[38;5;124m\"\u001b[39m\n\u001b[0;32m----> 4\u001b[0m \u001b[43mpath_1\u001b[49m\u001b[43m \u001b[49m\u001b[38;5;241;43m/\u001b[39;49m\u001b[43m \u001b[49m\u001b[43mpath_2\u001b[49m\n",
      "\u001b[0;31mTypeError\u001b[0m: unsupported operand type(s) for /: 'str' and 'str'"
     ]
    }
   ],
   "source": [
    "path_1 = \"home\"\n",
    "path_2 = \"xuananh\"\n",
    "\n",
    "path_1 / path_2"
   ]
  },
  {
   "cell_type": "code",
   "execution_count": null,
   "metadata": {},
   "outputs": [],
   "source": [
    "cache_dir = Path.cwd() / \"cache\""
   ]
  }
 ],
 "metadata": {
  "kernelspec": {
   "display_name": "code",
   "language": "python",
   "name": "python3"
  },
  "language_info": {
   "codemirror_mode": {
    "name": "ipython",
    "version": 3
   },
   "file_extension": ".py",
   "mimetype": "text/x-python",
   "name": "python",
   "nbconvert_exporter": "python",
   "pygments_lexer": "ipython3",
   "version": "3.8.18"
  }
 },
 "nbformat": 4,
 "nbformat_minor": 2
}
